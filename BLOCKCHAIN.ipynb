{
  "nbformat": 4,
  "nbformat_minor": 0,
  "metadata": {
    "colab": {
      "provenance": []
    },
    "kernelspec": {
      "name": "python3",
      "display_name": "Python 3"
    },
    "language_info": {
      "name": "python"
    }
  },
  "cells": [
    {
      "cell_type": "code",
      "execution_count": 1,
      "metadata": {
        "colab": {
          "base_uri": "https://localhost:8080/"
        },
        "id": "JQHLhgW1zJr3",
        "outputId": "30c06293-005a-4caa-b9d2-71385e967213"
      },
      "outputs": [
        {
          "output_type": "stream",
          "name": "stdout",
          "text": [
            "Ticket issued with ID: 62606933-5641-4816-a035-4a98ef77845a\n",
            "Entry Granted to 0xNEW789 for ConcertX\n"
          ]
        }
      ],
      "source": [
        "import uuid\n",
        "from datetime import datetime, timedelta\n",
        "\n",
        "class Ticket:\n",
        "    def __init__(self, event_name, seat_number, event_date, owner_address, resale_allowed=True, resale_price_cap=None):\n",
        "        self.ticket_id = str(uuid.uuid4())\n",
        "        self.event_name = event_name\n",
        "        self.seat_number = seat_number\n",
        "        self.event_date = event_date\n",
        "        self.owner = owner_address\n",
        "        self.is_valid = True\n",
        "        self.resale_allowed = resale_allowed\n",
        "        self.resale_price_cap = resale_price_cap\n",
        "        self.history = [(datetime.now(), \"Issued\", owner_address)]\n",
        "\n",
        "    def transfer_ownership(self, new_owner, price):\n",
        "        if not self.resale_allowed:\n",
        "            raise PermissionError(\"Resale not allowed for this ticket.\")\n",
        "        if self.resale_price_cap is not None and price > self.resale_price_cap:\n",
        "            raise ValueError(\"Resale price exceeds allowed cap.\")\n",
        "        self.owner = new_owner\n",
        "        self.history.append((datetime.now(), \"Transferred\", new_owner))\n",
        "\n",
        "    def validate_entry(self):\n",
        "        if not self.is_valid:\n",
        "            return \"Invalid ticket\"\n",
        "        if datetime.now() > self.event_date:\n",
        "            return \"Event expired\"\n",
        "        return f\"Entry Granted to {self.owner} for {self.event_name}\"\n",
        "\n",
        "class TicketSystem:\n",
        "    def __init__(self):\n",
        "        self.tickets = {}\n",
        "        self.organizers = set()\n",
        "\n",
        "    def add_organizer(self, address):\n",
        "        self.organizers.add(address)\n",
        "\n",
        "    def mint_ticket(self, organizer_address, event_name, seat_number, event_date, buyer_address, resale_allowed=True, resale_price_cap=None):\n",
        "        if organizer_address not in self.organizers:\n",
        "            raise PermissionError(\"Unauthorized: Only organizers can mint tickets.\")\n",
        "        ticket = Ticket(event_name, seat_number, event_date, buyer_address, resale_allowed, resale_price_cap)\n",
        "        self.tickets[ticket.ticket_id] = ticket\n",
        "        return ticket.ticket_id\n",
        "\n",
        "    def transfer_ticket(self, ticket_id, new_owner, price):\n",
        "        if ticket_id in self.tickets:\n",
        "            self.tickets[ticket_id].transfer_ownership(new_owner, price)\n",
        "        else:\n",
        "            raise ValueError(\"Ticket not found.\")\n",
        "\n",
        "    def validate_ticket(self, ticket_id):\n",
        "        if ticket_id in self.tickets:\n",
        "            return self.tickets[ticket_id].validate_entry()\n",
        "        else:\n",
        "            return \"Ticket ID not found.\"\n",
        "\n",
        "# Example usage\n",
        "if __name__ == \"__main__\":\n",
        "    system = TicketSystem()\n",
        "\n",
        "    # Setup organizer and mint ticket\n",
        "    organizer = \"0xORG123\"\n",
        "    buyer = \"0xBUYER456\"\n",
        "    system.add_organizer(organizer)\n",
        "    ticket_id = system.mint_ticket(\n",
        "        organizer_address=organizer,\n",
        "        event_name=\"ConcertX\",\n",
        "        seat_number=\"A12\",\n",
        "        event_date=datetime.now() + timedelta(days=2),\n",
        "        buyer_address=buyer,\n",
        "        resale_allowed=True,\n",
        "        resale_price_cap=100\n",
        "    )\n",
        "\n",
        "    print(f\"Ticket issued with ID: {ticket_id}\")\n",
        "\n",
        "    # Transfer ownership\n",
        "    new_owner = \"0xNEW789\"\n",
        "    system.transfer_ticket(ticket_id, new_owner, price=90)\n",
        "\n",
        "    # Validate ticket\n",
        "    print(system.validate_ticket(ticket_id))\n"
      ]
    }
  ]
}